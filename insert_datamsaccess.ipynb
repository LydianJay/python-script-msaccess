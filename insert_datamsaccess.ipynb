{
 "cells": [
  {
   "cell_type": "code",
   "execution_count": 3,
   "id": "1e12b8bb-9c0a-4bd3-b779-0da94c6517b3",
   "metadata": {},
   "outputs": [],
   "source": [
    "import pyodbc\n",
    "import pandas as pd"
   ]
  },
  {
   "cell_type": "code",
   "execution_count": 15,
   "id": "e17e1ffa-4e87-4a78-8e06-a629910e0cb0",
   "metadata": {},
   "outputs": [],
   "source": [
    "BSBA = pd.read_csv('SJTIT_BSCA.csv').dropna(how='all')\n",
    "BSCRIM = pd.read_csv('SJTIT_BSCRIM.csv').dropna(how='all')\n",
    "csvData = pd.concat([BSBA, BSCRIM])\n"
   ]
  },
  {
   "cell_type": "code",
   "execution_count": 5,
   "id": "b900540d-75c1-4227-9181-0935a4b016e9",
   "metadata": {},
   "outputs": [],
   "source": [
    "conn_str = (\n",
    "    r'DRIVER={Microsoft Access Driver (*.mdb, *.accdb)};'\n",
    "    r'DBQ=C:\\Users\\ISOTECH-DEV\\Documents\\Python\\HXData(SJTIT).mdb;'\n",
    ")\n",
    "conn = pyodbc.connect(conn_str)\n",
    "crsr = conn.cursor()"
   ]
  },
  {
   "cell_type": "code",
   "execution_count": 16,
   "id": "3b3913ee-18ac-4024-96c3-b734da82e394",
   "metadata": {},
   "outputs": [
    {
     "name": "stdout",
     "output_type": "stream",
     "text": [
      "ID:2024-12677 \t RFID:810560010\n",
      "ID:2022-11838 \t RFID:810213402\n",
      "ID:2022-12011 \t RFID:810564106\n",
      "ID:2024-12939 \t RFID:808599274\n",
      "ID:2024-12715 \t RFID:807499226\n",
      "ID:2024-12545 \t RFID:808462730\n",
      "ID:2023-12452 \t RFID:808424826\n",
      "ID:2022-11837 \t RFID:4187102004\n",
      "ID:2023-12124 \t RFID:4188297604\n",
      "ID:2023-12234 \t RFID:4187763396\n",
      "ID:2023-12364 \t RFID:4187941396\n",
      "ID:2023-12162 \t RFID:806886602\n",
      "ID:2023-12181 \t RFID:810319018\n",
      "ID:2023-12170 \t RFID:809380554\n",
      "ID:2021-11733 \t RFID:810415642\n",
      "ID:2024-12801 \t RFID:809881706\n",
      "ID:2024-12520 \t RFID:810343834\n",
      "ID:2024-12709 \t RFID:808959658\n",
      "ID:2024-12602 \t RFID:4189960852\n",
      "ID:2023-12138 \t RFID:4189960820\n",
      "ID:2022-12052 \t RFID:4186649988\n",
      "ID:2024-12914 \t RFID:4188513876\n",
      "ID:2023-12288 \t RFID:4189825572\n",
      "ID:2024-12699 \t RFID:4189519476\n",
      "ID:2023-12249 \t RFID:4190852660\n",
      "ID:2022-12004 \t RFID:4189935940\n",
      "ID:2022-11828 \t RFID:806907930\n",
      "ID:2024-12640 \t RFID:810123450\n",
      "ID:2023-12463 \t RFID:810574378\n",
      "ID:2023-12459 \t RFID:809020618\n",
      "ID:2023-12148 \t RFID:806871690\n",
      "ID:2024-12651 \t RFID:810319226\n",
      "ID:2024-12745 \t RFID:807925738\n",
      "ID:2023-12359 \t RFID:810172266\n",
      "ID:2023-12149 \t RFID:806723018\n",
      "ID:2022-11906 \t RFID:810433546\n"
     ]
    }
   ],
   "source": [
    "for index, row in csvData.iterrows():\n",
    "    r = row\n",
    "    id = r['ID NUMBER']\n",
    "    rfid = int(r['RFID'])\n",
    "    print(f'ID:{id} \\t RFID:{rfid}')"
   ]
  },
  {
   "cell_type": "code",
   "execution_count": 17,
   "id": "4bbb8049-43fd-47b7-9a28-28f02c84d384",
   "metadata": {},
   "outputs": [
    {
     "name": "stdout",
     "output_type": "stream",
     "text": [
      "2024-12677\n",
      "2022-11838\n",
      "2022-12011\n",
      "2024-12939\n",
      "2024-12715\n",
      "2024-12545\n",
      "2023-12452\n",
      "2022-11837\n",
      "2023-12124\n",
      "2023-12234\n",
      "2023-12364\n",
      "2023-12162\n",
      "2023-12181\n",
      "2023-12170\n",
      "2021-11733\n",
      "2024-12801\n",
      "2024-12520\n",
      "2024-12709\n",
      "2024-12602\n",
      "2023-12138\n",
      "2022-12052\n",
      "2024-12914\n",
      "2023-12288\n",
      "2024-12699\n",
      "2023-12249\n",
      "2022-12004\n",
      "2022-11828\n",
      "2024-12640\n",
      "2023-12463\n",
      "2023-12459\n",
      "2023-12148\n",
      "2024-12651\n",
      "2024-12745\n",
      "2023-12359\n",
      "2023-12149\n",
      "2022-11906\n"
     ]
    }
   ],
   "source": [
    "\n",
    "for index, row in csvData.iterrows():\n",
    "    r = row\n",
    "    id = str(r['ID NUMBER'])\n",
    "    rfid = int(r['RFID'])\n",
    "    print(id)\n",
    "    sql = f'''INSERT INTO TEmployee (EmployeeCode, CardNo)\n",
    "         VALUES ('{id}', '{rfid}')'''\n",
    "    crsr.execute(sql)\n",
    "conn.commit()\n",
    "\n",
    "\n"
   ]
  },
  {
   "cell_type": "code",
   "execution_count": 13,
   "id": "81e2c4a4-cef6-4f8e-b35d-d5bcf2f934ee",
   "metadata": {},
   "outputs": [],
   "source": [
    "for i in range(486, 2037):\n",
    "    sql = f'''DELETE FROM TEmployee WHERE EmployeeID = {i} '''\n",
    "    crsr.execute(sql)\n",
    "conn.commit()"
   ]
  },
  {
   "cell_type": "code",
   "execution_count": 80,
   "id": "3d66dcad-3a4d-4eae-86bd-b5dfb57ab66c",
   "metadata": {},
   "outputs": [
    {
     "ename": "ProgrammingError",
     "evalue": "Attempt to use a closed cursor.",
     "output_type": "error",
     "traceback": [
      "\u001b[1;31m---------------------------------------------------------------------------\u001b[0m",
      "\u001b[1;31mProgrammingError\u001b[0m                          Traceback (most recent call last)",
      "Cell \u001b[1;32mIn[80], line 1\u001b[0m\n\u001b[1;32m----> 1\u001b[0m \u001b[43mcrsr\u001b[49m\u001b[38;5;241;43m.\u001b[39;49m\u001b[43mclose\u001b[49m\u001b[43m(\u001b[49m\u001b[43m)\u001b[49m\n\u001b[0;32m      2\u001b[0m conn\u001b[38;5;241m.\u001b[39mclose()\n",
      "\u001b[1;31mProgrammingError\u001b[0m: Attempt to use a closed cursor."
     ]
    }
   ],
   "source": [
    "crsr.close()\n",
    "conn.close()\n"
   ]
  }
 ],
 "metadata": {
  "kernelspec": {
   "display_name": "Python 3",
   "language": "python",
   "name": "python3"
  },
  "language_info": {
   "codemirror_mode": {
    "name": "ipython",
    "version": 3
   },
   "file_extension": ".py",
   "mimetype": "text/x-python",
   "name": "python",
   "nbconvert_exporter": "python",
   "pygments_lexer": "ipython3",
   "version": "3.10.0"
  }
 },
 "nbformat": 4,
 "nbformat_minor": 5
}
